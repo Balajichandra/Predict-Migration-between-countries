{
 "cells": [
  {
   "cell_type": "code",
   "execution_count": 27,
   "id": "eca411c1",
   "metadata": {},
   "outputs": [],
   "source": [
    "import numpy as np\n",
    "import pandas as pd\n",
    "import matplotlib.pyplot as plt\n",
    "import seaborn as sns"
   ]
  },
  {
   "cell_type": "code",
   "execution_count": 2,
   "id": "44b4dbe7",
   "metadata": {},
   "outputs": [
    {
     "data": {
      "text/html": [
       "<div>\n",
       "<style scoped>\n",
       "    .dataframe tbody tr th:only-of-type {\n",
       "        vertical-align: middle;\n",
       "    }\n",
       "\n",
       "    .dataframe tbody tr th {\n",
       "        vertical-align: top;\n",
       "    }\n",
       "\n",
       "    .dataframe thead th {\n",
       "        text-align: right;\n",
       "    }\n",
       "</style>\n",
       "<table border=\"1\" class=\"dataframe\">\n",
       "  <thead>\n",
       "    <tr style=\"text-align: right;\">\n",
       "      <th></th>\n",
       "      <th>Measure</th>\n",
       "      <th>Country</th>\n",
       "      <th>Citizenship</th>\n",
       "      <th>Year</th>\n",
       "      <th>Value</th>\n",
       "    </tr>\n",
       "  </thead>\n",
       "  <tbody>\n",
       "    <tr>\n",
       "      <th>0</th>\n",
       "      <td>Arrivals</td>\n",
       "      <td>Oceania</td>\n",
       "      <td>New Zealand Citizen</td>\n",
       "      <td>1979</td>\n",
       "      <td>11817.0</td>\n",
       "    </tr>\n",
       "    <tr>\n",
       "      <th>1</th>\n",
       "      <td>Arrivals</td>\n",
       "      <td>Oceania</td>\n",
       "      <td>Australian Citizen</td>\n",
       "      <td>1979</td>\n",
       "      <td>4436.0</td>\n",
       "    </tr>\n",
       "    <tr>\n",
       "      <th>2</th>\n",
       "      <td>Arrivals</td>\n",
       "      <td>Oceania</td>\n",
       "      <td>Total All Citizenships</td>\n",
       "      <td>1979</td>\n",
       "      <td>19965.0</td>\n",
       "    </tr>\n",
       "    <tr>\n",
       "      <th>3</th>\n",
       "      <td>Arrivals</td>\n",
       "      <td>Antarctica</td>\n",
       "      <td>New Zealand Citizen</td>\n",
       "      <td>1979</td>\n",
       "      <td>10.0</td>\n",
       "    </tr>\n",
       "    <tr>\n",
       "      <th>4</th>\n",
       "      <td>Arrivals</td>\n",
       "      <td>Antarctica</td>\n",
       "      <td>Australian Citizen</td>\n",
       "      <td>1979</td>\n",
       "      <td>0.0</td>\n",
       "    </tr>\n",
       "  </tbody>\n",
       "</table>\n",
       "</div>"
      ],
      "text/plain": [
       "    Measure     Country             Citizenship  Year    Value\n",
       "0  Arrivals     Oceania     New Zealand Citizen  1979  11817.0\n",
       "1  Arrivals     Oceania      Australian Citizen  1979   4436.0\n",
       "2  Arrivals     Oceania  Total All Citizenships  1979  19965.0\n",
       "3  Arrivals  Antarctica     New Zealand Citizen  1979     10.0\n",
       "4  Arrivals  Antarctica      Australian Citizen  1979      0.0"
      ]
     },
     "execution_count": 2,
     "metadata": {},
     "output_type": "execute_result"
    }
   ],
   "source": [
    "data = pd.read_csv('migration_nz.csv')\n",
    "data.head()"
   ]
  },
  {
   "cell_type": "code",
   "execution_count": 3,
   "id": "2c9db851",
   "metadata": {},
   "outputs": [
    {
     "data": {
      "text/plain": [
       "(86526, 5)"
      ]
     },
     "execution_count": 3,
     "metadata": {},
     "output_type": "execute_result"
    }
   ],
   "source": [
    "data.shape"
   ]
  },
  {
   "cell_type": "code",
   "execution_count": 9,
   "id": "d06e881b",
   "metadata": {},
   "outputs": [],
   "source": [
    "data['Measure'].replace(\"Arrivals\",0,inplace=True)\n",
    "data['Measure'].replace(\"Departures\",1,inplace=True)\n",
    "data['Measure'].replace(\"Net\",2,inplace=True)"
   ]
  },
  {
   "cell_type": "code",
   "execution_count": 10,
   "id": "6ddbe96a",
   "metadata": {},
   "outputs": [
    {
     "data": {
      "text/plain": [
       "array([0, 1, 2], dtype=int64)"
      ]
     },
     "execution_count": 10,
     "metadata": {},
     "output_type": "execute_result"
    }
   ],
   "source": [
    "data['Measure'].unique()"
   ]
  },
  {
   "cell_type": "code",
   "execution_count": 13,
   "id": "383b1e31",
   "metadata": {},
   "outputs": [
    {
     "data": {
      "text/plain": [
       "array(['Oceania', 'Antarctica', 'American Samoa', 'Australia',\n",
       "       'Cocos Islands', 'Cook Islands', 'Christmas Island', 'Fiji',\n",
       "       'Micronesia', 'Guam', 'Kiribati', 'Marshall Islands',\n",
       "       'Northern Mariana Islands', 'New Caledonia', 'Norfolk Island',\n",
       "       'Nauru', 'Niue', 'New Zealand', 'French Polynesia',\n",
       "       'Papua New Guinea', 'Pitcairn Island', 'Palau', 'Solomon Islands',\n",
       "       'French Southern Territories', 'Tokelau', 'Tonga', 'Tuvalu',\n",
       "       'Vanuatu', 'Wallis and Futuna', 'Samoa', 'Asia', 'Afghanistan',\n",
       "       'Armenia', 'Azerbaijan', 'Bangladesh', 'Brunei Darussalam',\n",
       "       'Bhutan', 'China', 'Georgia', 'Hong Kong', 'Indonesia', 'India',\n",
       "       'Japan', 'Kyrgyzstan', 'Cambodia', 'North Korea', 'South Korea',\n",
       "       'Kazakhstan', 'Laos', 'Sri Lanka', 'Myanmar', 'Mongolia', 'Macau',\n",
       "       'Maldives', 'Malaysia', 'Nepal', 'Philippines', 'Pakistan',\n",
       "       'Singapore', 'Thailand', 'Tajikistan', 'Timor-Leste',\n",
       "       'Turkmenistan', 'Taiwan', 'Uzbekistan', 'Vietnam', 'Europe',\n",
       "       'Andorra', 'Albania', 'Austria', 'Bosnia and Herzegovina',\n",
       "       'Belgium', 'Bulgaria', 'Belarus', 'Switzerland', 'Czechoslovakia',\n",
       "       'Cyprus', 'Czechia', 'East Germany', 'Germany', 'Denmark',\n",
       "       'Estonia', 'Spain', 'Finland', 'Faeroe Islands', 'France', 'UK',\n",
       "       'Gibraltar', 'Greenland', 'Greece', 'Croatia', 'Hungary',\n",
       "       'Ireland', 'Iceland', 'Italy', 'Kosovo', 'Liechtenstein',\n",
       "       'Lithuania', 'Luxembourg', 'Latvia', 'Monaco', 'Moldova',\n",
       "       'Montenegro', 'Macedonia', 'Malta', 'Netherlands', 'Norway',\n",
       "       'Poland', 'Portugal', 'Romania', 'Serbia', 'Russia', 'Sweden',\n",
       "       'Slovenia', 'Slovakia', 'San Marino', 'USSR', 'Ukraine',\n",
       "       'Vatican City', 'Yugoslavia/Serbia and Montenegro', 'Americas',\n",
       "       'Antigua and Barbuda', 'Anguilla', 'Netherlands Antilles',\n",
       "       'Argentina', 'Aruba', 'Barbados', 'Bermuda', 'Bolivia', 'Brazil',\n",
       "       'Bahamas', 'Belize', 'Canada', 'Chile', 'Colombia', 'Costa Rica',\n",
       "       'Cuba', 'Curacao', 'Dominica', 'Dominican Republic', 'Ecuador',\n",
       "       'Falkland Islands', 'Grenada', 'French Guiana', 'Guadeloupe',\n",
       "       'South Georgia and the South Sandwich Islands', 'Guatemala',\n",
       "       'Guyana', 'Honduras', 'Haiti', 'Jamaica', 'St Kitts and Nevis',\n",
       "       'Cayman Islands', 'St Lucia', 'Martinique', 'Montserrat', 'Mexico',\n",
       "       'Nicaragua', 'Panama', 'Peru', 'St Pierre and Miquelon',\n",
       "       'Puerto Rico', 'Paraguay', 'Suriname', 'El Salvador', 'St Maarten',\n",
       "       'Turks and Caicos', 'Trinidad and Tobago',\n",
       "       'US Minor Outlying Islands', 'USA', 'Uruguay',\n",
       "       'St Vincent and the Grenadines', 'Venezuela',\n",
       "       'British Virgin Islands', 'US Virgin Islands',\n",
       "       'Africa and the Middle East', 'UAE', 'Angola', 'Burkina Faso',\n",
       "       'Bahrain', 'Burundi', 'Benin', 'Botswana',\n",
       "       'Democratic Republic of the Congo', 'Central African Republic',\n",
       "       'Congo', \"Cote d'Ivoire\", 'Cameroon', 'Cape Verde', 'Djibouti',\n",
       "       'Algeria', 'Egypt', 'Western Sahara', 'Eritrea', 'Ethiopia',\n",
       "       'Gabon', 'Ghana', 'Gambia', 'Guinea', 'Equatorial Guinea',\n",
       "       'Guinea-Bissau', 'Israel', 'British Indian Ocean Territory',\n",
       "       'Iraq', 'Iran', 'Jordan', 'Kenya', 'Comoros', 'Kuwait', 'Lebanon',\n",
       "       'Liberia', 'Lesotho', 'Libya', 'Morocco', 'Madagascar', 'Mali',\n",
       "       'Mauritania', 'Mauritius', 'Malawi', 'Mozambique', 'Namibia',\n",
       "       'Niger', 'Nigeria', 'Oman', 'Palestine', 'Qatar', 'Reunion',\n",
       "       'Rwanda', 'Saudi Arabia', 'Seychelles', 'Sudan', 'St Helena',\n",
       "       'Sierra Leone', 'Senegal', 'Somalia', 'South Sudan',\n",
       "       'Sao Tome and Principe', 'Syria', 'Swaziland', 'Chad', 'Togo',\n",
       "       'Tunisia', 'Turkey', 'Tanzania', 'Uganda', 'South Yemen', 'Yemen',\n",
       "       'Mayotte', 'South Africa', 'Zambia', 'Zimbabwe', 'Not stated',\n",
       "       'All countries'], dtype=object)"
      ]
     },
     "execution_count": 13,
     "metadata": {},
     "output_type": "execute_result"
    }
   ],
   "source": [
    "data['Country'].unique()"
   ]
  },
  {
   "cell_type": "code",
   "execution_count": 14,
   "id": "e09cb4e8",
   "metadata": {},
   "outputs": [],
   "source": [
    "data['CountryID'] = pd.factorize(data.Country)[0]\n",
    "data['CitID'] = pd.factorize(data.Citizenship)[0]"
   ]
  },
  {
   "cell_type": "code",
   "execution_count": 15,
   "id": "39cc3b72",
   "metadata": {},
   "outputs": [
    {
     "data": {
      "text/html": [
       "<div>\n",
       "<style scoped>\n",
       "    .dataframe tbody tr th:only-of-type {\n",
       "        vertical-align: middle;\n",
       "    }\n",
       "\n",
       "    .dataframe tbody tr th {\n",
       "        vertical-align: top;\n",
       "    }\n",
       "\n",
       "    .dataframe thead th {\n",
       "        text-align: right;\n",
       "    }\n",
       "</style>\n",
       "<table border=\"1\" class=\"dataframe\">\n",
       "  <thead>\n",
       "    <tr style=\"text-align: right;\">\n",
       "      <th></th>\n",
       "      <th>Measure</th>\n",
       "      <th>Country</th>\n",
       "      <th>Citizenship</th>\n",
       "      <th>Year</th>\n",
       "      <th>Value</th>\n",
       "      <th>CountryID</th>\n",
       "      <th>CitID</th>\n",
       "    </tr>\n",
       "  </thead>\n",
       "  <tbody>\n",
       "    <tr>\n",
       "      <th>0</th>\n",
       "      <td>0</td>\n",
       "      <td>Oceania</td>\n",
       "      <td>New Zealand Citizen</td>\n",
       "      <td>1979</td>\n",
       "      <td>11817.0</td>\n",
       "      <td>0</td>\n",
       "      <td>0</td>\n",
       "    </tr>\n",
       "    <tr>\n",
       "      <th>1</th>\n",
       "      <td>0</td>\n",
       "      <td>Oceania</td>\n",
       "      <td>Australian Citizen</td>\n",
       "      <td>1979</td>\n",
       "      <td>4436.0</td>\n",
       "      <td>0</td>\n",
       "      <td>1</td>\n",
       "    </tr>\n",
       "    <tr>\n",
       "      <th>2</th>\n",
       "      <td>0</td>\n",
       "      <td>Oceania</td>\n",
       "      <td>Total All Citizenships</td>\n",
       "      <td>1979</td>\n",
       "      <td>19965.0</td>\n",
       "      <td>0</td>\n",
       "      <td>2</td>\n",
       "    </tr>\n",
       "    <tr>\n",
       "      <th>3</th>\n",
       "      <td>0</td>\n",
       "      <td>Antarctica</td>\n",
       "      <td>New Zealand Citizen</td>\n",
       "      <td>1979</td>\n",
       "      <td>10.0</td>\n",
       "      <td>1</td>\n",
       "      <td>0</td>\n",
       "    </tr>\n",
       "    <tr>\n",
       "      <th>4</th>\n",
       "      <td>0</td>\n",
       "      <td>Antarctica</td>\n",
       "      <td>Australian Citizen</td>\n",
       "      <td>1979</td>\n",
       "      <td>0.0</td>\n",
       "      <td>1</td>\n",
       "      <td>1</td>\n",
       "    </tr>\n",
       "  </tbody>\n",
       "</table>\n",
       "</div>"
      ],
      "text/plain": [
       "   Measure     Country             Citizenship  Year    Value  CountryID  \\\n",
       "0        0     Oceania     New Zealand Citizen  1979  11817.0          0   \n",
       "1        0     Oceania      Australian Citizen  1979   4436.0          0   \n",
       "2        0     Oceania  Total All Citizenships  1979  19965.0          0   \n",
       "3        0  Antarctica     New Zealand Citizen  1979     10.0          1   \n",
       "4        0  Antarctica      Australian Citizen  1979      0.0          1   \n",
       "\n",
       "   CitID  \n",
       "0      0  \n",
       "1      1  \n",
       "2      2  \n",
       "3      0  \n",
       "4      1  "
      ]
     },
     "execution_count": 15,
     "metadata": {},
     "output_type": "execute_result"
    }
   ],
   "source": [
    "data.head()"
   ]
  },
  {
   "cell_type": "code",
   "execution_count": 16,
   "id": "299f730b",
   "metadata": {},
   "outputs": [
    {
     "data": {
      "text/plain": [
       "Measure         0\n",
       "Country         0\n",
       "Citizenship     0\n",
       "Year            0\n",
       "Value          72\n",
       "CountryID       0\n",
       "CitID           0\n",
       "dtype: int64"
      ]
     },
     "execution_count": 16,
     "metadata": {},
     "output_type": "execute_result"
    }
   ],
   "source": [
    "data.isnull().sum()"
   ]
  },
  {
   "cell_type": "code",
   "execution_count": 17,
   "id": "16bfb179",
   "metadata": {},
   "outputs": [],
   "source": [
    "data['Value'].fillna(data['Value'].median(),inplace=True)"
   ]
  },
  {
   "cell_type": "code",
   "execution_count": 19,
   "id": "e4c6727f",
   "metadata": {},
   "outputs": [],
   "source": [
    "#splitting x and y\n",
    "X= data[['CountryID','Measure','Year','CitID']]\n",
    "Y= data['Value']"
   ]
  },
  {
   "cell_type": "code",
   "execution_count": 20,
   "id": "e797b55e",
   "metadata": {},
   "outputs": [
    {
     "data": {
      "text/html": [
       "<div>\n",
       "<style scoped>\n",
       "    .dataframe tbody tr th:only-of-type {\n",
       "        vertical-align: middle;\n",
       "    }\n",
       "\n",
       "    .dataframe tbody tr th {\n",
       "        vertical-align: top;\n",
       "    }\n",
       "\n",
       "    .dataframe thead th {\n",
       "        text-align: right;\n",
       "    }\n",
       "</style>\n",
       "<table border=\"1\" class=\"dataframe\">\n",
       "  <thead>\n",
       "    <tr style=\"text-align: right;\">\n",
       "      <th></th>\n",
       "      <th>CountryID</th>\n",
       "      <th>Measure</th>\n",
       "      <th>Year</th>\n",
       "      <th>CitID</th>\n",
       "    </tr>\n",
       "  </thead>\n",
       "  <tbody>\n",
       "    <tr>\n",
       "      <th>0</th>\n",
       "      <td>0</td>\n",
       "      <td>0</td>\n",
       "      <td>1979</td>\n",
       "      <td>0</td>\n",
       "    </tr>\n",
       "    <tr>\n",
       "      <th>1</th>\n",
       "      <td>0</td>\n",
       "      <td>0</td>\n",
       "      <td>1979</td>\n",
       "      <td>1</td>\n",
       "    </tr>\n",
       "    <tr>\n",
       "      <th>2</th>\n",
       "      <td>0</td>\n",
       "      <td>0</td>\n",
       "      <td>1979</td>\n",
       "      <td>2</td>\n",
       "    </tr>\n",
       "    <tr>\n",
       "      <th>3</th>\n",
       "      <td>1</td>\n",
       "      <td>0</td>\n",
       "      <td>1979</td>\n",
       "      <td>0</td>\n",
       "    </tr>\n",
       "    <tr>\n",
       "      <th>4</th>\n",
       "      <td>1</td>\n",
       "      <td>0</td>\n",
       "      <td>1979</td>\n",
       "      <td>1</td>\n",
       "    </tr>\n",
       "    <tr>\n",
       "      <th>...</th>\n",
       "      <td>...</td>\n",
       "      <td>...</td>\n",
       "      <td>...</td>\n",
       "      <td>...</td>\n",
       "    </tr>\n",
       "    <tr>\n",
       "      <th>86521</th>\n",
       "      <td>251</td>\n",
       "      <td>2</td>\n",
       "      <td>2016</td>\n",
       "      <td>1</td>\n",
       "    </tr>\n",
       "    <tr>\n",
       "      <th>86522</th>\n",
       "      <td>251</td>\n",
       "      <td>2</td>\n",
       "      <td>2016</td>\n",
       "      <td>2</td>\n",
       "    </tr>\n",
       "    <tr>\n",
       "      <th>86523</th>\n",
       "      <td>252</td>\n",
       "      <td>2</td>\n",
       "      <td>2016</td>\n",
       "      <td>0</td>\n",
       "    </tr>\n",
       "    <tr>\n",
       "      <th>86524</th>\n",
       "      <td>252</td>\n",
       "      <td>2</td>\n",
       "      <td>2016</td>\n",
       "      <td>1</td>\n",
       "    </tr>\n",
       "    <tr>\n",
       "      <th>86525</th>\n",
       "      <td>252</td>\n",
       "      <td>2</td>\n",
       "      <td>2016</td>\n",
       "      <td>2</td>\n",
       "    </tr>\n",
       "  </tbody>\n",
       "</table>\n",
       "<p>86526 rows × 4 columns</p>\n",
       "</div>"
      ],
      "text/plain": [
       "       CountryID  Measure  Year  CitID\n",
       "0              0        0  1979      0\n",
       "1              0        0  1979      1\n",
       "2              0        0  1979      2\n",
       "3              1        0  1979      0\n",
       "4              1        0  1979      1\n",
       "...          ...      ...   ...    ...\n",
       "86521        251        2  2016      1\n",
       "86522        251        2  2016      2\n",
       "86523        252        2  2016      0\n",
       "86524        252        2  2016      1\n",
       "86525        252        2  2016      2\n",
       "\n",
       "[86526 rows x 4 columns]"
      ]
     },
     "execution_count": 20,
     "metadata": {},
     "output_type": "execute_result"
    }
   ],
   "source": [
    "X"
   ]
  },
  {
   "cell_type": "code",
   "execution_count": 21,
   "id": "bc18584c",
   "metadata": {},
   "outputs": [
    {
     "data": {
      "text/plain": [
       "0        11817.0\n",
       "1         4436.0\n",
       "2        19965.0\n",
       "3           10.0\n",
       "4            0.0\n",
       "          ...   \n",
       "86521       80.0\n",
       "86522     3177.0\n",
       "86523    -1818.0\n",
       "86524     3487.0\n",
       "86525    70588.0\n",
       "Name: Value, Length: 86526, dtype: float64"
      ]
     },
     "execution_count": 21,
     "metadata": {},
     "output_type": "execute_result"
    }
   ],
   "source": [
    "Y"
   ]
  },
  {
   "cell_type": "code",
   "execution_count": 22,
   "id": "3afb85b4",
   "metadata": {},
   "outputs": [],
   "source": [
    "from sklearn.model_selection import train_test_split\n",
    "xtrain,xtest,ytrain,ytest = train_test_split(X,Y,test_size=0.3,random_state=9)"
   ]
  },
  {
   "cell_type": "code",
   "execution_count": 23,
   "id": "e64c920c",
   "metadata": {},
   "outputs": [
    {
     "data": {
      "text/plain": [
       "RandomForestRegressor(max_depth=5, max_features=3, n_estimators=70, n_jobs=-1)"
      ]
     },
     "execution_count": 23,
     "metadata": {},
     "output_type": "execute_result"
    }
   ],
   "source": [
    "from sklearn.ensemble import RandomForestRegressor\n",
    "model = RandomForestRegressor(n_estimators=70,max_features = 3,max_depth=5,n_jobs=-1)\n",
    "model.fit(xtrain,ytrain)"
   ]
  },
  {
   "cell_type": "code",
   "execution_count": 24,
   "id": "7f79c5b2",
   "metadata": {},
   "outputs": [
    {
     "data": {
      "text/plain": [
       "0.7368660996862489"
      ]
     },
     "execution_count": 24,
     "metadata": {},
     "output_type": "execute_result"
    }
   ],
   "source": [
    "model.score(xtest,ytest)"
   ]
  },
  {
   "cell_type": "code",
   "execution_count": 25,
   "id": "c75cf5f0",
   "metadata": {},
   "outputs": [],
   "source": [
    "X = data[['CountryID','Measure','Year','CitID']]\n",
    "Y = data['Value']\n",
    "X_train, X_test, y_train, y_test = train_test_split(\n",
    "  X, Y, test_size=0.3, random_state=9)\n",
    "grouped = data.groupby(['Year']).aggregate({'Value' : 'sum'})"
   ]
  },
  {
   "cell_type": "code",
   "execution_count": 29,
   "id": "289bf77b",
   "metadata": {},
   "outputs": [
    {
     "data": {
      "image/png": "[encoded data removed]",
      "text/plain": [
       "<Figure size 432x288 with 1 Axes>"
      ]
     },
     "metadata": {
      "needs_background": "light"
     },
     "output_type": "display_data"
    }
   ],
   "source": [
    "#Growth of migration to New-Zeland by year\n",
    "grouped.plot(kind='line')\n",
    "plt.axhline(0, color='g')\n",
    "plt.show()"
   ]
  },
  {
   "cell_type": "code",
   "execution_count": 30,
   "id": "2efdadf6",
   "metadata": {},
   "outputs": [
    {
     "data": {
      "image/png": "[encoded data removed]",
      "text/plain": [
       "<Figure size 432x288 with 1 Axes>"
      ]
     },
     "metadata": {
      "needs_background": "light"
     },
     "output_type": "display_data"
    }
   ],
   "source": [
    "grouped.plot(kind='bar')\n",
    "plt.axhline(0, color='g')\n",
    "plt.show()"
   ]
  },
  {
   "cell_type": "code",
   "execution_count": 31,
   "id": "4ca8b8ce",
   "metadata": {},
   "outputs": [
    {
     "data": {
      "image/png": "[encoded data removed]",
      "text/plain": [
       "<Figure size 432x288 with 2 Axes>"
      ]
     },
     "metadata": {
      "needs_background": "light"
     },
     "output_type": "display_data"
    }
   ],
   "source": [
    "corr = data.corr()\n",
    "sns.heatmap(corr, \n",
    "            xticklabels=corr.columns.values,\n",
    "            yticklabels=corr.columns.values)\n",
    "plt.show()"
   ]
  },
  {
   "cell_type": "code",
   "execution_count": null,
   "id": "d2219409",
   "metadata": {},
   "outputs": [],
   "source": []
  }
 ],
 "metadata": {
  "kernelspec": {
   "display_name": "Python 3",
   "language": "python",
   "name": "python3"
  },
  "language_info": {
   "codemirror_mode": {
    "name": "ipython",
    "version": 3
   },
   "file_extension": ".py",
   "mimetype": "text/x-python",
   "name": "python",
   "nbconvert_exporter": "python",
   "pygments_lexer": "ipython3",
   "version": "3.8.8"
  }
 },
 "nbformat": 4,
 "nbformat_minor": 5
}
